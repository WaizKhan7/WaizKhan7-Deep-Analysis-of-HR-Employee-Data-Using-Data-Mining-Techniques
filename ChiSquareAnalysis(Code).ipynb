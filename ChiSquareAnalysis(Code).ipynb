{
  "nbformat": 4,
  "nbformat_minor": 0,
  "metadata": {
    "kernelspec": {
      "display_name": "Python 3",
      "language": "python",
      "name": "python3"
    },
    "language_info": {
      "codemirror_mode": {
        "name": "ipython",
        "version": 3
      },
      "file_extension": ".py",
      "mimetype": "text/x-python",
      "name": "python",
      "nbconvert_exporter": "python",
      "pygments_lexer": "ipython3",
      "version": "3.7.6"
    },
    "colab": {
      "name": "ChiSquareAnalysis(Code).ipynb",
      "provenance": []
    }
  },
  "cells": [
    {
      "cell_type": "code",
      "metadata": {
        "id": "Mw0yR7jsPArW",
        "outputId": "38e26e63-44dd-4e6b-e4f5-1b00d6a73e8b",
        "colab": {
          "base_uri": "https://localhost:8080/",
          "height": 71
        }
      },
      "source": [
        "import os\n",
        "import re\n",
        "import math\n",
        "import numpy as np\n",
        "import numpy.ma as ma\n",
        "import pandas as pd\n",
        "import random \n",
        "import seaborn as sns\n",
        "from collections import Counter\n",
        "from scipy import stats\n",
        "from scipy.stats import chi2_contingency\n",
        "from matplotlib import pyplot as plt\n",
        "%matplotlib inline"
      ],
      "execution_count": null,
      "outputs": [
        {
          "output_type": "stream",
          "text": [
            "/usr/local/lib/python3.6/dist-packages/statsmodels/tools/_testing.py:19: FutureWarning: pandas.util.testing is deprecated. Use the functions in the public API at pandas.testing instead.\n",
            "  import pandas.util.testing as tm\n"
          ],
          "name": "stderr"
        }
      ]
    },
    {
      "cell_type": "code",
      "metadata": {
        "id": "4otctf-JPdwr",
        "outputId": "bb462c00-d997-4509-d697-ca8dbc003015",
        "colab": {
          "base_uri": "https://localhost:8080/",
          "height": 122
        }
      },
      "source": [
        "from google.colab import drive\n",
        "drive.mount('drive')"
      ],
      "execution_count": null,
      "outputs": [
        {
          "output_type": "stream",
          "text": [
            "Go to this URL in a browser: https://accounts.google.com/o/oauth2/auth?client_id=947318989803-6bn6qk8qdgf4n4g3pfee6491hc0brc4i.apps.googleusercontent.com&redirect_uri=urn%3aietf%3awg%3aoauth%3a2.0%3aoob&response_type=code&scope=email%20https%3a%2f%2fwww.googleapis.com%2fauth%2fdocs.test%20https%3a%2f%2fwww.googleapis.com%2fauth%2fdrive%20https%3a%2f%2fwww.googleapis.com%2fauth%2fdrive.photos.readonly%20https%3a%2f%2fwww.googleapis.com%2fauth%2fpeopleapi.readonly\n",
            "\n",
            "Enter your authorization code:\n",
            "··········\n",
            "Mounted at drive\n"
          ],
          "name": "stdout"
        }
      ]
    },
    {
      "cell_type": "code",
      "metadata": {
        "id": "oLmMUPEvPuv0"
      },
      "source": [
        "mydata = pd.read_csv('drive/My Drive/DM/HR_comma_sep.csv', header=None,  \n",
        "                         names = ['satisfaction_level', 'last_evaluation', 'number_project', 'average_montly_hours',\n",
        "                                  'time_spend_company', 'Work_accident', 'promotion_last_5years', 'department','salary',\n",
        "                                  'left'], sep = ',')"
      ],
      "execution_count": null,
      "outputs": []
    },
    {
      "cell_type": "code",
      "metadata": {
        "id": "FrJm5bIDPAv2"
      },
      "source": [
        "import pandas as pd\n",
        "\n",
        "#thetas = np.loadtxt('thetas_batch.out',  delimiter=',')   # load array\n",
        "my_Y = finalpredict(X_test,thetas_batch) #predict test data on base of thetas value provided\n",
        "\n",
        "confusionMatrix(my_Y,Y_test)"
      ],
      "execution_count": null,
      "outputs": []
    },
    {
      "cell_type": "code",
      "metadata": {
        "id": "n1c1AchJPAv7"
      },
      "source": [
        "# Implement your own PCA. You are only allowed to use numpy.\n",
        "# Look at mean, cov, eig methods of the numpy for help.\n",
        "\n",
        "def pca(X):\n",
        "    '''\n",
        "    # PCA step by step\n",
        "    #   1. normalize matrix X\n",
        "    #   2. compute the covariance matrix of the normalized matrix X\n",
        "    #   3. do the eigenvalue decomposition on the covariance matrix\n",
        "    '''\n",
        "\n",
        "    ####################################################################\n",
        "    # here V is the matrix containing all the eigenvectors, D is the\n",
        "    # column vector containing all the corresponding eigenvalues.\n",
        "    \n",
        "    #YOUR CODE HERE!\n",
        "    \n",
        "    for x in range(X.shape[1]):\n",
        "    \n",
        "        minn = min(X[:,x])\n",
        "        maxx = max(X[:,x])\n",
        "        X[:,x] = X[:,x] - minn\n",
        "        diff = maxx - minn\n",
        "        X[:,x] = X[:,x] / diff\n",
        "    \n",
        "\n",
        "    covar = np.cov(np.transpose(X))\n",
        "    corr = np.corrcoef(np.transpose(X))\n",
        "\n",
        "    #fig, (ax1,ax2) = plt.subplots(nrows=1,ncols=2,figsize=(20,7))\n",
        "    #sns.heatmap(covar, annot=True, cmap=\"YlGnBu\",ax=ax1)\n",
        "    #sns.heatmap(corr, annot=True, cmap=\"YlGnBu\",ax=ax2)\n",
        "\n",
        "    D, V = np.linalg.eig(covar) \n",
        "\n",
        "    print(V[1,:])\n",
        "    print(D)\n",
        "    #sorting V wrt D\n",
        "    sortedD = np.sort(D)\n",
        "    print(sortedD)\n",
        "    sortedD = sortedD[::-1] \n",
        "    print(sortedD)   \n",
        "    A = np.argsort(D)\n",
        "    print(A)\n",
        "    A = A[::-1]\n",
        "    print(A)\n",
        "    sortedV = np.empty(V.shape)\n",
        "    for x in range(A.size):\n",
        "        \n",
        "        sortedV[:,x] = V[:,A[x]]\n",
        "    \n",
        "    W = np.delete(sortedV, A.size-2,1)\n",
        "    print(W.shape)  \n",
        "    print(sortedV[1,:])\n",
        "  \n",
        "    newX = X.dot(W)\n",
        "\n",
        "    \n",
        "    ''''\n",
        "    V = np.square(V)\n",
        "    V = np.sum(V,axis =0)\n",
        "    #print(\"Eigon vector\",V[:,0:3])\n",
        "    V = np.argsort(V)\n",
        "    print(V)\n",
        "    #print(\"Eigon vector\",V[:,0:3])\n",
        "    V = V[::-1]\n",
        "    print(V)\n",
        "    #print(\"Eigon vector\",V)\n",
        "    '''\n",
        "    return D , V \n"
      ],
      "execution_count": null,
      "outputs": []
    },
    {
      "cell_type": "code",
      "metadata": {
        "id": "CLNNwXsqmDIb",
        "outputId": "1b0fcd1f-1d0e-4415-c85d-7dfa9b03b644",
        "colab": {
          "base_uri": "https://localhost:8080/",
          "height": 585
        }
      },
      "source": [
        " D , V = pca(Data.to_numpy())\n",
        "\n",
        "print(\"EV\",D.shape)\n",
        "print(np.sum(D))\n",
        "#proportion of variance\n",
        "POV = D / np.sum(D)\n",
        "print(\"POV\",POV)\n",
        "\n",
        "V = np.square(V)\n",
        "V = np.sum(V,axis =0)\n",
        "order = range(0,10)\n",
        "\n",
        "#plt.plot(POV,V)\n",
        "\n",
        "plt.subplot(2, 1, 1)\n",
        "a = plt.plot(order,D, 'ro')\n",
        "plt.xlabel('EigonVector')\n",
        "plt.ylabel('EigonValues')\n",
        "\n",
        "\n",
        "plt.subplot(2, 1, 2)\n",
        "b = plt.plot(order,POV, 'ro')\n",
        "plt.xlabel('EigonVector')\n",
        "plt.ylabel('POV')\n"
      ],
      "execution_count": null,
      "outputs": [
        {
          "output_type": "stream",
          "text": [
            "[ 0.00944878  0.03218498 -0.62988589 -0.13796263 -0.04387379 -0.3130046\n",
            " -0.68353592 -0.12444645  0.01642126 -0.01449867]\n",
            "[0.21095916 0.11818752 0.10994599 0.09957587 0.09542481 0.06331567\n",
            " 0.04058697 0.03293351 0.02930829 0.02016267]\n",
            "[0.02016267 0.02930829 0.03293351 0.04058697 0.06331567 0.09542481\n",
            " 0.09957587 0.10994599 0.11818752 0.21095916]\n",
            "[0.21095916 0.11818752 0.10994599 0.09957587 0.09542481 0.06331567\n",
            " 0.04058697 0.03293351 0.02930829 0.02016267]\n",
            "[9 8 7 6 5 4 3 2 1 0]\n",
            "[0 1 2 3 4 5 6 7 8 9]\n",
            "(10, 9)\n",
            "[ 0.00944878  0.03218498 -0.62988589 -0.13796263 -0.04387379 -0.3130046\n",
            " -0.68353592 -0.12444645  0.01642126 -0.01449867]\n",
            "EV (10,)\n",
            "0.8204004639985699\n",
            "POV [0.25714169 0.14406077 0.13401502 0.12137471 0.11631492 0.07717654\n",
            " 0.04947214 0.04014321 0.03572438 0.02457663]\n"
          ],
          "name": "stdout"
        },
        {
          "output_type": "execute_result",
          "data": {
            "text/plain": [
              "Text(0, 0.5, 'POV')"
            ]
          },
          "metadata": {
            "tags": []
          },
          "execution_count": 24
        },
        {
          "output_type": "display_data",
          "data": {
            "image/png": "[encoded data removed]",
            "text/plain": [
              "<Figure size 432x288 with 2 Axes>"
            ]
          },
          "metadata": {
            "tags": [],
            "needs_background": "light"
          }
        }
      ]
    },
    {
      "cell_type": "code",
      "metadata": {
        "id": "zuhtkUHa2Tvv"
      },
      "source": [
        "def Zero_One_split (mydata):\n",
        "\n",
        "    data = mydata.iloc[1:,:]\n",
        "    data.head()\n",
        "    print(data.department.unique())\n",
        "    print(data.salary.unique())\n",
        "    data.department =data.department.replace(to_replace ='sales',value= '0')\n",
        "    data.department =data.department.replace(to_replace ='accounting',value= '1')\n",
        "    data.department =data.department.replace(to_replace ='hr',value= '2')\n",
        "    data.department =data.department.replace(to_replace ='technical',value= '3')\n",
        "    data.department =data.department.replace(to_replace ='support',value= '4')\n",
        "    data.department =data.department.replace(to_replace ='management',value= '5')\n",
        "    data.department =data.department.replace(to_replace ='IT',value= '6')\n",
        "    data.department =data.department.replace(to_replace ='product_mng',value= '7')\n",
        "    data.department =data.department.replace(to_replace ='marketing',value= '8')\n",
        "    data.department =data.department.replace(to_replace ='RandD',value= '9')\n",
        "\n",
        "    data.salary =data.salary.replace(to_replace ='low',value= '0')\n",
        "    data.salary =data.salary.replace(to_replace ='medium',value= '1')\n",
        "    data.salary =data.salary.replace(to_replace ='high',value= '2')\n",
        "\n",
        "    data = data.astype(float)\n",
        "    print(data.shape)\n",
        "    un_normalized_data = data.copy()\n",
        "\n",
        "    \n",
        "    for x in range(data.shape[1]):\n",
        "\n",
        "        minn = min(data.iloc[:,x])\n",
        "        maxx = max(data.iloc[:,x])\n",
        "        data.iloc[:,x] = data.iloc[:,x] - minn\n",
        "        diff = maxx - minn\n",
        "        data.iloc[:,x] = data.iloc[:,x] / diff\n",
        "    \n",
        "\n",
        "    data = data.sort_values(by=['left'])\n",
        "\n",
        "    #seperating all the classes from data\n",
        "    zero=0\n",
        "    one=0\n",
        "    \n",
        "    for i in range(data.shape[0]):\n",
        "\n",
        "        if(data.iloc[i,9] == 0):\n",
        "            zero+=1\n",
        "            one+=1\n",
        "\n",
        "        if(data.iloc[i,9] == 1):\n",
        "            one+=1\n",
        "            \n",
        "    zerosData = data.iloc[0:zero,:]\n",
        "    onesData = data.iloc[zero:one,:]\n",
        "    print('zeros=',zero,'ones',one)\n",
        "\n",
        "    return zerosData, onesData ,un_normalized_data"
      ],
      "execution_count": null,
      "outputs": []
    },
    {
      "cell_type": "code",
      "metadata": {
        "id": "QAThdQFiPZe0",
        "outputId": "8aa68d08-83e0-4015-d9ca-0eac11014443",
        "colab": {
          "base_uri": "https://localhost:8080/",
          "height": 527
        }
      },
      "source": [
        "#The larger the t score, the more difference there is between groups. The smaller the t score, the more similarity there is between groups.\n",
        "#A p-value is the probability that the results from your sample data occurred by chance. P-values are from 0% to 100%.\n",
        "#'satisfaction_level', 'last_evaluation', 'number_project', 'average_montly_hours', 'time_spend_company', 'Work_accident', 'promotion_last_5years', 'department','salary'\n",
        "\n",
        "Datazeros, Dataones, un_normalized_data = Zero_One_split(mydata)\n",
        "\n",
        "print('Retained')\n",
        "print(stats.ttest_ind(Dataones.satisfaction_level, Datazeros.satisfaction_level))\n",
        "print(stats.ttest_ind(Dataones.last_evaluation, Datazeros.last_evaluation))\n",
        "print(stats.ttest_ind(Dataones.number_project, Datazeros.number_project))\n",
        "print(stats.ttest_ind(Dataones.average_montly_hours, Datazeros.average_montly_hours))\n",
        "print(stats.ttest_ind(Dataones.time_spend_company, Datazeros.time_spend_company))\n",
        "print(stats.ttest_ind(Dataones.Work_accident, Datazeros.Work_accident))\n",
        "print(stats.ttest_ind(Dataones.promotion_last_5years, Datazeros.promotion_last_5years))\n",
        "print(stats.ttest_ind(Dataones.department, Datazeros.department))\n",
        "print(stats.ttest_ind(Dataones.salary, Datazeros.salary))\n",
        "\n",
        "print('Left')\n",
        "print(stats.ttest_ind(Dataones.left, Dataones.satisfaction_level))\n",
        "print(stats.ttest_ind(Dataones.left, Dataones.last_evaluation))\n",
        "print(stats.ttest_ind(Dataones.left, Dataones.number_project))\n",
        "print(stats.ttest_ind(Dataones.left, Dataones.average_montly_hours))\n",
        "print(stats.ttest_ind(Dataones.left, Dataones.time_spend_company))\n",
        "print(stats.ttest_ind(Dataones.left, Dataones.Work_accident))\n",
        "print(stats.ttest_ind(Dataones.left, Dataones.promotion_last_5years))\n",
        "print(stats.ttest_ind(Dataones.left, Dataones.department))\n",
        "print(stats.ttest_ind(Dataones.left, Dataones.salary))\n"
      ],
      "execution_count": null,
      "outputs": [
        {
          "output_type": "stream",
          "text": [
            "['0' '1' '2' '3' '4' '5' '6' '7' '8' '9']\n",
            "['0' '1' '2']\n",
            "(14999, 10)\n"
          ],
          "name": "stdout"
        },
        {
          "output_type": "stream",
          "text": [
            "/usr/local/lib/python3.6/dist-packages/pandas/core/generic.py:5303: SettingWithCopyWarning: \n",
            "A value is trying to be set on a copy of a slice from a DataFrame.\n",
            "Try using .loc[row_indexer,col_indexer] = value instead\n",
            "\n",
            "See the caveats in the documentation: https://pandas.pydata.org/pandas-docs/stable/user_guide/indexing.html#returning-a-view-versus-a-copy\n",
            "  self[name] = value\n"
          ],
          "name": "stderr"
        },
        {
          "output_type": "stream",
          "text": [
            "zeros= 11428 ones 14999\n",
            "Retained\n",
            "Ttest_indResult(statistic=-51.61280155890103, pvalue=0.0)\n",
            "Ttest_indResult(statistic=0.804241616779656, pvalue=0.4212701963734924)\n",
            "Ttest_indResult(statistic=2.913856435845963, pvalue=0.003575213870941856)\n",
            "Ttest_indResult(statistic=8.752254731850021, pvalue=2.3113035567537315e-18)\n",
            "Ttest_indResult(statistic=17.924210234916128, pvalue=4.207680457693794e-71)\n",
            "Ttest_indResult(statistic=-19.165804033090176, pvalue=6.613049400453939e-81)\n",
            "Ttest_indResult(statistic=-7.581195349367637, pvalue=3.624047224146943e-14)\n",
            "Ttest_indResult(statistic=-5.370709711356837, pvalue=7.959668924973188e-08)\n",
            "Ttest_indResult(statistic=-19.58216626170969, pvalue=2.475238171818194e-84)\n",
            "Left\n",
            "Ttest_indResult(statistic=126.76884190424437, pvalue=0.0)\n",
            "Ttest_indResult(statistic=85.21626449001387, pvalue=0.0)\n",
            "Ttest_indResult(statistic=103.35054591240211, pvalue=0.0)\n",
            "Ttest_indResult(statistic=100.15888737161215, pvalue=0.0)\n",
            "Ttest_indResult(statistic=374.27394074954645, pvalue=0.0)\n",
            "Ttest_indResult(statistic=268.0759849889778, pvalue=0.0)\n",
            "Ttest_indResult(statistic=816.9468191156374, pvalue=0.0)\n",
            "Ttest_indResult(statistic=130.02661306177032, pvalue=0.0)\n",
            "Ttest_indResult(statistic=176.29834999392128, pvalue=0.0)\n"
          ],
          "name": "stdout"
        }
      ]
    },
    {
      "cell_type": "code",
      "metadata": {
        "id": "nI03Zq2Bnm-_",
        "outputId": "68ea561a-caaf-4017-b78d-2b2c2982afef",
        "colab": {
          "base_uri": "https://localhost:8080/",
          "height": 187
        }
      },
      "source": [
        "Datazeros, Dataones, un_normalized_data = Zero_One_split(mydata)\n"
      ],
      "execution_count": null,
      "outputs": [
        {
          "output_type": "stream",
          "text": [
            "['0' '1' '2' '3' '4' '5' '6' '7' '8' '9']\n",
            "['0' '1' '2']\n",
            "(14999, 10)\n"
          ],
          "name": "stdout"
        },
        {
          "output_type": "stream",
          "text": [
            "/usr/local/lib/python3.6/dist-packages/pandas/core/generic.py:5303: SettingWithCopyWarning: \n",
            "A value is trying to be set on a copy of a slice from a DataFrame.\n",
            "Try using .loc[row_indexer,col_indexer] = value instead\n",
            "\n",
            "See the caveats in the documentation: https://pandas.pydata.org/pandas-docs/stable/user_guide/indexing.html#returning-a-view-versus-a-copy\n",
            "  self[name] = value\n"
          ],
          "name": "stderr"
        },
        {
          "output_type": "stream",
          "text": [
            "zeros= 11428 ones 14999\n"
          ],
          "name": "stdout"
        }
      ]
    },
    {
      "cell_type": "code",
      "metadata": {
        "id": "4RTFNi7XMRxj",
        "outputId": "cb3deaf3-4852-4c9e-89f3-f602a5ef8b3f",
        "colab": {
          "base_uri": "https://localhost:8080/",
          "height": 136
        }
      },
      "source": [
        "#verifying function by using pre-solved problem\n",
        "t = [[0,1,2],[1,2,1]]\n",
        "t = np.asarray(t)\n",
        "table = pd.DataFrame(data=t,dtype=float, columns= ['FA','Bsc','MS'] )\n",
        "print(table)\n",
        "chi2, p, dof, exp = chi2_contingency(table)\n",
        "print(exp)\n",
        "print(p)\n",
        "print(chi2)"
      ],
      "execution_count": null,
      "outputs": [
        {
          "output_type": "stream",
          "text": [
            "    FA  Bsc   MS\n",
            "0  0.0  1.0  2.0\n",
            "1  1.0  2.0  1.0\n",
            "[[0.42857143 1.28571429 1.28571429]\n",
            " [0.57142857 1.71428571 1.71428571]]\n",
            "0.4594258240359268\n",
            "1.5555555555555558\n"
          ],
          "name": "stdout"
        }
      ]
    },
    {
      "cell_type": "code",
      "metadata": {
        "id": "zQn1Axaqo5Oe",
        "outputId": "368fcafb-ee2a-49f6-824b-97301bf5f28e",
        "colab": {
          "base_uri": "https://localhost:8080/",
          "height": 187
        }
      },
      "source": [
        "#'satisfaction_level', 'last_evaluation', 'number_project', 'average_montly_hours', 'time_spend_company', 'Work_accident', 'promotion_last_5years',\n",
        "# 'department','salary'\n",
        "#When two features are independent, the observed count is close to the expected count, thus we will have smaller Chi-Square value. So high Chi-Square \n",
        "#value indicates that the hypothesis of independence is incorrect.\n",
        "\n",
        "#H0: Salary of the employee does not affect the decision whether to leave or not\n",
        "#H1: Salary of the employee affects the decision whether to leave or not\n",
        "\n",
        "#chi sqaure test between salary and left\n",
        "Data = un_normalized_data\n",
        "print(Data.shape)\n",
        "sal0yes = 0\n",
        "sal0no = 0\n",
        "sal1yes = 0\n",
        "sal1no = 0\n",
        "sal2yes = 0\n",
        "sal2no = 0\n",
        "\n",
        "for x in range(1,Data.shape[0]+1):\n",
        "\n",
        "    if (Data.loc[x,'salary'] == 0 ):\n",
        "        if(Data.loc[x,'left'] == 1 ):\n",
        "            sal0yes +=1 \n",
        "\n",
        "    if (Data.loc[x,'salary'] == 0 ):\n",
        "        if(Data.loc[x,'left'] == 0 ):\n",
        "            sal0no +=1\n",
        "\n",
        "    if (Data.loc[x,'salary'] == 1 ):\n",
        "        if(Data.loc[x,'left'] == 1 ):\n",
        "            sal1yes +=1\n",
        "\n",
        "    if (Data.loc[x,'salary'] == 1 ):\n",
        "        if(Data.loc[x,'left'] == 0 ):\n",
        "            sal1no +=1\n",
        "\n",
        "    if (Data.loc[x,'salary'] == 2 ):\n",
        "        if(Data.loc[x,'left'] == 1 ):\n",
        "            sal2yes +=1\n",
        "\n",
        "    if (Data.loc[x,'salary'] == 2 ):\n",
        "        if(Data.loc[x,'left'] == 0 ):\n",
        "            sal2no +=1\n",
        "\n",
        "\n",
        "t = [[sal0yes,sal0no],[sal1yes,sal1no],[sal2yes,sal2no]]\n",
        "t = np.asarray(t)\n",
        "table = pd.DataFrame(data=t,dtype=float, columns= ['left','stayed'] )\n",
        "print(table)\n",
        "chi2, p, dof, exp = chi2_contingency(table)\n",
        "print(exp)\n",
        "print(p)\n",
        "if(p>0.05):\n",
        "  print('Salary doesnt affect the decision to leave the company')\n",
        "if(p<0.05):\n",
        "  print('Salary is associated with decision to leave the company')"
      ],
      "execution_count": null,
      "outputs": [
        {
          "output_type": "stream",
          "text": [
            "(14999, 10)\n",
            "     left  stayed\n",
            "0  2172.0  5144.0\n",
            "1  1317.0  5129.0\n",
            "2    82.0  1155.0\n",
            "[[1741.81185412 5574.18814588]\n",
            " [1534.68004534 4911.31995466]\n",
            " [ 294.50810054  942.49189946]]\n",
            "1.652086749296005e-83\n",
            "Salary is associated with decision to leave the company\n"
          ],
          "name": "stdout"
        }
      ]
    },
    {
      "cell_type": "code",
      "metadata": {
        "id": "5YP9HaTx5670",
        "outputId": "c5a7226f-d916-4ba1-c2ac-55237de7e0fd",
        "colab": {
          "base_uri": "https://localhost:8080/",
          "height": 425
        }
      },
      "source": [
        "#'satisfaction_level', 'last_evaluation', 'number_project', 'average_montly_hours', 'time_spend_company', 'Work_accident', 'promotion_last_5years',\n",
        "# 'department','salary'\n",
        "#When two features are independent, the observed count is close to the expected count, thus we will have smaller Chi-Square value. So high Chi-Square \n",
        "#value indicates that the hypothesis of independence is incorrect.\n",
        "\n",
        "#H0: Dept of the employee does not affect the decision whether to leave or not\n",
        "#H1: Dept of the employee affects the decision whether to leave or not\n",
        "\n",
        "#chi sqaure test between salary and left\n",
        "Data = un_normalized_data\n",
        "print(Data.shape)\n",
        "yes0 = 0\n",
        "no0 = 0\n",
        "yes1 = 0\n",
        "no1 = 0\n",
        "yes2 = 0\n",
        "no2 = 0\n",
        "yes3 = 0\n",
        "no3 = 0\n",
        "yes4 = 0\n",
        "no4 = 0\n",
        "yes5 = 0\n",
        "no5 = 0\n",
        "yes6 = 0\n",
        "no6 = 0\n",
        "yes7 = 0\n",
        "no7 = 0\n",
        "yes8 = 0\n",
        "no8 = 0\n",
        "yes9 = 0\n",
        "no9 = 0\n",
        "\n",
        "\n",
        "for x in range(1,Data.shape[0]+1):\n",
        "\n",
        "\n",
        "    if (Data.loc[x,'department'] == 0 ):\n",
        "        if(Data.loc[x,'left'] == 1 ):\n",
        "            yes0 +=1 \n",
        "\n",
        "    if (Data.loc[x,'department'] == 0 ):\n",
        "        if(Data.loc[x,'left'] == 0 ):\n",
        "            no0 +=1\n",
        "\n",
        "    if (Data.loc[x,'department'] == 1 ):\n",
        "        if(Data.loc[x,'left'] == 1 ):\n",
        "            yes1 +=1\n",
        "\n",
        "    if (Data.loc[x,'department'] == 1 ):\n",
        "        if(Data.loc[x,'left'] == 0 ):\n",
        "            no1 +=1\n",
        "\n",
        "    if (Data.loc[x,'department'] == 2 ):\n",
        "        if(Data.loc[x,'left'] == 1 ):\n",
        "            yes2 +=1\n",
        "\n",
        "    if (Data.loc[x,'department'] == 2 ):\n",
        "        if(Data.loc[x,'left'] == 0 ):\n",
        "            no2 +=1\n",
        "\n",
        "    if (Data.loc[x,'department'] == 3 ):\n",
        "        if(Data.loc[x,'left'] == 0 ):\n",
        "            no3 +=1\n",
        "\n",
        "    if (Data.loc[x,'department'] == 3 ):\n",
        "        if(Data.loc[x,'left'] == 1 ):\n",
        "            yes3 +=1\n",
        "\n",
        "    if (Data.loc[x,'department'] == 4 ):\n",
        "        if(Data.loc[x,'left'] == 0 ):\n",
        "            no4 +=1\n",
        "\n",
        "    if (Data.loc[x,'department'] == 4 ):\n",
        "        if(Data.loc[x,'left'] == 1 ):\n",
        "            yes4 +=1\n",
        "\n",
        "    if (Data.loc[x,'department'] == 5 ):\n",
        "        if(Data.loc[x,'left'] == 0 ):\n",
        "            no5 +=1\n",
        "\n",
        "    if (Data.loc[x,'department'] == 5 ):\n",
        "        if(Data.loc[x,'left'] == 1 ):\n",
        "            yes5 +=1\n",
        "\n",
        "    if (Data.loc[x,'department'] == 6 ):\n",
        "        if(Data.loc[x,'left'] == 1 ):\n",
        "            yes6 +=1\n",
        "\n",
        "    if (Data.loc[x,'department'] == 6 ):\n",
        "        if(Data.loc[x,'left'] == 0 ):\n",
        "            no6 +=1\n",
        "\n",
        "    if (Data.loc[x,'department'] == 7 ):\n",
        "        if(Data.loc[x,'left'] == 1 ):\n",
        "            yes7 +=1\n",
        "\n",
        "    if (Data.loc[x,'department'] == 7 ):\n",
        "        if(Data.loc[x,'left'] == 0 ):\n",
        "            no7 +=1\n",
        "\n",
        "    if (Data.loc[x,'department'] == 8 ):\n",
        "        if(Data.loc[x,'left'] == 1 ):\n",
        "            yes8 +=1\n",
        "\n",
        "    if (Data.loc[x,'department'] == 8 ):\n",
        "        if(Data.loc[x,'left'] == 0 ):\n",
        "            no8 +=1\n",
        "\n",
        "    if (Data.loc[x,'department'] == 9 ):\n",
        "        if(Data.loc[x,'left'] == 1 ):\n",
        "            yes9 +=1\n",
        "\n",
        "    if (Data.loc[x,'department'] == 9 ):\n",
        "        if(Data.loc[x,'left'] == 0 ):\n",
        "            no9 +=1\n",
        "\n",
        "\n",
        "\n",
        "t = [[yes0,no0],[yes1,no1],[yes2,no2],[yes3,no3],[yes4,no4],[yes5,no5],[yes6,no6],[yes7,no7],[yes8,no8],[yes9,no9]]\n",
        "t = np.asarray(t)\n",
        "table = pd.DataFrame(data=t,dtype=float, columns= ['left','stayed'] )\n",
        "print(table)\n",
        "chi2, p, dof, exp = chi2_contingency(table)\n",
        "print(exp)\n",
        "print(p)\n",
        "if(p>0.05):\n",
        "  print('Dept doesnt affect the decision to leave the company')\n",
        "if(p<0.05):\n",
        "  print('Dept is associated with decision to leave the company')"
      ],
      "execution_count": null,
      "outputs": [
        {
          "output_type": "stream",
          "text": [
            "(14999, 10)\n",
            "     left  stayed\n",
            "0  1014.0  3126.0\n",
            "1   204.0   563.0\n",
            "2   215.0   524.0\n",
            "3   697.0  2023.0\n",
            "4   555.0  1674.0\n",
            "5    91.0   539.0\n",
            "6   273.0   954.0\n",
            "7   198.0   704.0\n",
            "8   203.0   655.0\n",
            "9   121.0   666.0\n",
            "[[ 985.66171078 3154.33828922]\n",
            " [ 182.60930729  584.39069271]\n",
            " [ 175.9429962   563.0570038 ]\n",
            " [ 647.58450563 2072.41549437]\n",
            " [ 530.68597907 1698.31402093]\n",
            " [ 149.99199947  480.00800053]\n",
            " [ 292.12727515  934.87272485]\n",
            " [ 214.75045003  687.24954997]\n",
            " [ 204.27481832  653.72518168]\n",
            " [ 187.37095806  599.62904194]]\n",
            "7.042130463822518e-15\n",
            "Dept is associated with decision to leave the company\n"
          ],
          "name": "stdout"
        }
      ]
    },
    {
      "cell_type": "code",
      "metadata": {
        "id": "OGrtLJJpKxQy",
        "outputId": "9c4764c5-5cc7-4d3b-9fbc-4a1d64479d74",
        "colab": {
          "base_uri": "https://localhost:8080/",
          "height": 153
        }
      },
      "source": [
        "#'satisfaction_level', 'last_evaluation', 'number_project', 'average_montly_hours', 'time_spend_company', 'Work_accident', 'promotion_last_5years',\n",
        "# 'department','salary'\n",
        "#When two features are independent, the observed count is close to the expected count, thus we will have smaller Chi-Square value. So high Chi-Square \n",
        "#value indicates that the hypothesis of independence is incorrect.\n",
        "\n",
        "#H0: Salary of the employee does not affect the decision whether to leave or not\n",
        "#H1: Salary of the employee affects the decision whether to leave or not\n",
        "\n",
        "#chi sqaure test between salary and left\n",
        "Data = un_normalized_data\n",
        "print(Data.shape)\n",
        "yes0 = 0\n",
        "no0 = 0\n",
        "yes1 = 0\n",
        "no1 = 0\n",
        "\n",
        "for x in range(1,Data.shape[0]+1):\n",
        "\n",
        "    if (Data.loc[x,'Work_accident'] == 0 ):\n",
        "        if(Data.loc[x,'left'] == 1 ):\n",
        "            yes0 +=1 \n",
        "\n",
        "    if (Data.loc[x,'Work_accident'] == 0 ):\n",
        "        if(Data.loc[x,'left'] == 0 ):\n",
        "            no0 +=1\n",
        "\n",
        "    if (Data.loc[x,'Work_accident'] == 1 ):\n",
        "        if(Data.loc[x,'left'] == 1 ):\n",
        "            yes1 +=1\n",
        "\n",
        "    if (Data.loc[x,'Work_accident'] == 1 ):\n",
        "        if(Data.loc[x,'left'] == 0 ):\n",
        "            no1 +=1\n",
        "\n",
        "\n",
        "t = [[yes0,no0],[yes1,no1]]\n",
        "t = np.asarray(t)\n",
        "table = pd.DataFrame(data=t,dtype=float, columns= ['left','stayed'] )\n",
        "print(table)\n",
        "chi2, p, dof, exp = chi2_contingency(table)\n",
        "print(exp)\n",
        "print(p)\n",
        "if(p>0.05):\n",
        "  print('Work accident doesnt affect the decision to leave the company')\n",
        "if(p<0.05):\n",
        "  print('Work accident is associated with decision to leave the company')"
      ],
      "execution_count": null,
      "outputs": [
        {
          "output_type": "stream",
          "text": [
            "(14999, 10)\n",
            "     left  stayed\n",
            "0  3402.0  9428.0\n",
            "1   169.0  2000.0\n",
            "[[3054.59897326 9775.40102674]\n",
            " [ 516.40102674 1652.59897326]]\n",
            "9.55823958002199e-80\n",
            "Work accident is associated with decision to leave the company\n"
          ],
          "name": "stdout"
        }
      ]
    },
    {
      "cell_type": "code",
      "metadata": {
        "id": "vBQOjPFsoeEY",
        "outputId": "9a3015b0-55cd-4b1c-f86e-d8c0806cca27",
        "colab": {
          "base_uri": "https://localhost:8080/",
          "height": 153
        }
      },
      "source": [
        "#'satisfaction_level', 'last_evaluation', 'number_project', 'average_montly_hours', 'time_spend_company', 'Work_accident', 'promotion_last_5years',\n",
        "# 'department','salary'\n",
        "#When two features are independent, the observed count is close to the expected count, thus we will have smaller Chi-Square value. So high Chi-Square \n",
        "#value indicates that the hypothesis of independence is incorrect.\n",
        "\n",
        "#H0: Promotion of the employee does not affect the decision whether to leave or not\n",
        "#H1: Promotion of the employee affects the decision whether to leave or not\n",
        "\n",
        "#chi sqaure test between salary and left\n",
        "Data = un_normalized_data\n",
        "print(Data.shape)\n",
        "yes0 = 0\n",
        "no0 = 0\n",
        "yes1 = 0\n",
        "no1 = 0\n",
        "\n",
        "for x in range(1,Data.shape[0]+1):\n",
        "\n",
        "    if (Data.loc[x,'promotion_last_5years'] == 0 ):\n",
        "        if(Data.loc[x,'left'] == 1 ):\n",
        "            yes0 +=1 \n",
        "\n",
        "    if (Data.loc[x,'promotion_last_5years'] == 0 ):\n",
        "        if(Data.loc[x,'left'] == 0 ):\n",
        "            no0 +=1\n",
        "\n",
        "    if (Data.loc[x,'promotion_last_5years'] == 1 ):\n",
        "        if(Data.loc[x,'left'] == 1 ):\n",
        "            yes1 +=1\n",
        "\n",
        "    if (Data.loc[x,'promotion_last_5years'] == 1 ):\n",
        "        if(Data.loc[x,'left'] == 0 ):\n",
        "            no1 +=1\n",
        "\n",
        "\n",
        "t = [[yes0,no0],[yes1,no1]]\n",
        "t = np.asarray(t)\n",
        "table = pd.DataFrame(data=t,dtype=float, columns= ['left','stayed'] )\n",
        "print(table)\n",
        "chi2, p, dof, exp = chi2_contingency(table)\n",
        "print(exp)\n",
        "print(p)\n",
        "if(p>0.05):\n",
        "  print('Promotion doesnt affect the decision to leave the company')\n",
        "if(p<0.05):\n",
        "  print('Promotion is associated with decision to leave the company')"
      ],
      "execution_count": null,
      "outputs": [
        {
          "output_type": "stream",
          "text": [
            "(14999, 10)\n",
            "     left   stayed\n",
            "0  3552.0  11128.0\n",
            "1    19.0    300.0\n",
            "[[ 3495.05167011 11184.94832989]\n",
            " [   75.94832989   243.05167011]]\n",
            "6.34415545791872e-14\n",
            "Promotion is associated with decision to leave the company\n"
          ],
          "name": "stdout"
        }
      ]
    },
    {
      "cell_type": "code",
      "metadata": {
        "id": "Jc8OYpVRpsE7",
        "outputId": "073ffce6-5686-4a9c-fb14-173a0c517218",
        "colab": {
          "base_uri": "https://localhost:8080/",
          "height": 289
        }
      },
      "source": [
        "#'satisfaction_level', 'last_evaluation', 'number_project', 'average_montly_hours', 'time_spend_company', 'Work_accident', 'promotion_last_5years',\n",
        "# 'department','salary'\n",
        "#When two features are independent, the observed count is close to the expected count, thus we will have smaller Chi-Square value. So high Chi-Square \n",
        "#value indicates that the hypothesis of independence is incorrect.\n",
        "\n",
        "#H0: No of proj of the employee does not affect the decision whether to leave or not\n",
        "#H1: No of proj of the employee affects the decision whether to leave or not\n",
        "\n",
        "#chi sqaure test between salary and left\n",
        "Data = un_normalized_data\n",
        "print(Data.shape)\n",
        "yes0 = 0\n",
        "no0 = 0\n",
        "yes1 = 0\n",
        "no1 = 0\n",
        "yes2 = 0\n",
        "no2 = 0\n",
        "yes3 = 0\n",
        "no3 = 0\n",
        "yes4 = 0\n",
        "no4 = 0\n",
        "yes5 = 0\n",
        "no5 = 0\n",
        "yes6 = 0\n",
        "no6 = 0\n",
        "yes7 = 0\n",
        "no7 = 0\n",
        "\n",
        "\n",
        "for x in range(1,Data.shape[0]+1):\n",
        "\n",
        "    if (Data.loc[x,'number_project'] == 1 ):\n",
        "        if(Data.loc[x,'left'] == 1 ):\n",
        "            yes1 +=1\n",
        "\n",
        "    if (Data.loc[x,'number_project'] == 1 ):\n",
        "        if(Data.loc[x,'left'] == 0 ):\n",
        "            no1 +=1\n",
        "\n",
        "    if (Data.loc[x,'number_project'] == 2 ):\n",
        "        if(Data.loc[x,'left'] == 1 ):\n",
        "            yes2 +=1\n",
        "\n",
        "    if (Data.loc[x,'number_project'] == 2 ):\n",
        "        if(Data.loc[x,'left'] == 0 ):\n",
        "            no2 +=1\n",
        "\n",
        "    if (Data.loc[x,'number_project'] == 3 ):\n",
        "        if(Data.loc[x,'left'] == 0 ):\n",
        "            no3 +=1\n",
        "\n",
        "    if (Data.loc[x,'number_project'] == 3 ):\n",
        "        if(Data.loc[x,'left'] == 1 ):\n",
        "            yes3 +=1\n",
        "\n",
        "    if (Data.loc[x,'number_project'] == 4 ):\n",
        "        if(Data.loc[x,'left'] == 0 ):\n",
        "            no4 +=1\n",
        "\n",
        "    if (Data.loc[x,'number_project'] == 4 ):\n",
        "        if(Data.loc[x,'left'] == 1 ):\n",
        "            yes4 +=1\n",
        "\n",
        "    if (Data.loc[x,'number_project'] == 5 ):\n",
        "        if(Data.loc[x,'left'] == 0 ):\n",
        "            no5 +=1\n",
        "\n",
        "    if (Data.loc[x,'number_project'] == 5 ):\n",
        "        if(Data.loc[x,'left'] == 1 ):\n",
        "            yes5 +=1\n",
        "\n",
        "    if (Data.loc[x,'number_project'] == 6 ):\n",
        "        if(Data.loc[x,'left'] == 1 ):\n",
        "            yes6 +=1\n",
        "\n",
        "    if (Data.loc[x,'number_project'] == 6 ):\n",
        "        if(Data.loc[x,'left'] == 0 ):\n",
        "            no6 +=1\n",
        "\n",
        "    if (Data.loc[x,'number_project'] == 7 ):\n",
        "        if(Data.loc[x,'left'] == 1 ):\n",
        "            yes7 +=1\n",
        "\n",
        "    if (Data.loc[x,'number_project'] == 7 ):\n",
        "        if(Data.loc[x,'left'] == 0 ):\n",
        "            no7 +=1\n",
        "\n",
        "\n",
        "t = [[2,yes2,no2],[3,yes3,no3],[4,yes4,no4],[5,yes5,no5],[6,yes6,no6],[7,yes7,no7]]\n",
        "t = np.asarray(t)\n",
        "table = pd.DataFrame(data=t,dtype=float, columns= ['no of proj','left','stayed'] )\n",
        "print(table)\n",
        "#skipping no of proj column\n",
        "chi2, p, dof, exp = chi2_contingency(table.iloc[:,1:])\n",
        "print(p)\n",
        "print(exp)\n",
        "if(p>0.05):\n",
        "  print('number of project doesnt affect the decision to leave the company')\n",
        "if(p<0.05):\n",
        "  print('number project is associated with decision to leave the company')"
      ],
      "execution_count": null,
      "outputs": [
        {
          "output_type": "stream",
          "text": [
            "(14999, 10)\n",
            "   no of proj    left  stayed\n",
            "0         2.0  1567.0   821.0\n",
            "1         3.0    72.0  3983.0\n",
            "2         4.0   409.0  3956.0\n",
            "3         5.0   612.0  2149.0\n",
            "4         6.0   655.0   519.0\n",
            "5         7.0   256.0     0.0\n",
            "0.0\n",
            "[[ 568.54110274 1819.45889726]\n",
            " [ 965.42469498 3089.57530502]\n",
            " [1039.23028202 3325.76971798]\n",
            " [ 657.34588973 2103.65411027]\n",
            " [ 279.50890059  894.49109941]\n",
            " [  60.94912994  195.05087006]]\n",
            "number project is associated with decision to leave the company\n"
          ],
          "name": "stdout"
        }
      ]
    },
    {
      "cell_type": "code",
      "metadata": {
        "id": "gBScMVcrQtsB",
        "outputId": "8372550a-0788-4847-9aef-eb9eddc47d41",
        "colab": {
          "base_uri": "https://localhost:8080/",
          "height": 163
        }
      },
      "source": [
        "Datazeros, Dataones, un_normalized_data = Zero_One_split(mydata)"
      ],
      "execution_count": null,
      "outputs": [
        {
          "output_type": "error",
          "ename": "NameError",
          "evalue": "ignored",
          "traceback": [
            "\u001b[0;31m---------------------------------------------------------------------------\u001b[0m",
            "\u001b[0;31mNameError\u001b[0m                                 Traceback (most recent call last)",
            "\u001b[0;32m<ipython-input-51-ef57b4e7a2a3>\u001b[0m in \u001b[0;36m<module>\u001b[0;34m()\u001b[0m\n\u001b[0;32m----> 1\u001b[0;31m \u001b[0mDatazeros\u001b[0m\u001b[0;34m,\u001b[0m \u001b[0mDataones\u001b[0m\u001b[0;34m,\u001b[0m \u001b[0mun_normalized_data\u001b[0m \u001b[0;34m=\u001b[0m \u001b[0mZero_One_split\u001b[0m\u001b[0;34m(\u001b[0m\u001b[0mmydata\u001b[0m\u001b[0;34m)\u001b[0m\u001b[0;34m\u001b[0m\u001b[0;34m\u001b[0m\u001b[0m\n\u001b[0m",
            "\u001b[0;31mNameError\u001b[0m: name 'Zero_One_split' is not defined"
          ]
        }
      ]
    },
    {
      "cell_type": "code",
      "metadata": {
        "id": "X7lJ-qc49EX1",
        "outputId": "ed95f3df-1d94-48ae-f6fa-94dacb993f50",
        "colab": {
          "base_uri": "https://localhost:8080/",
          "height": 357
        }
      },
      "source": [
        "#'satisfaction_level', 'last_evaluation', 'number_project', 'average_montly_hours', 'time_spend_company', 'Work_accident', 'promotion_last_5years',\n",
        "# 'department','salary'\n",
        "#When two features are independent, the observed count is close to the expected count, thus we will have smaller Chi-Square value. So high Chi-Square \n",
        "#value indicates that the hypothesis of independence is incorrect.\n",
        "\n",
        "#H0: Time spent by the employee does not affect the decision whether to leave or not\n",
        "#H1: Time spent by the employee affects the decision whether to leave or not\n",
        "\n",
        "#chi sqaure test between salary and left\n",
        "Data = un_normalized_data\n",
        "print(Data.shape)\n",
        "yes2 = 0\n",
        "no2 = 0\n",
        "yes3 = 0\n",
        "no3 = 0\n",
        "yes4 = 0\n",
        "no4 = 0\n",
        "yes5 = 0\n",
        "no5 = 0\n",
        "yes6 = 0\n",
        "no6 = 0\n",
        "yes7 = 0\n",
        "no7 = 0\n",
        "yes8 = 0\n",
        "no8 = 0\n",
        "yes9 = 0\n",
        "no9 = 0\n",
        "yes10 = 0\n",
        "no10 = 0\n",
        "\n",
        "for x in range(1,Data.shape[0]+1):\n",
        "\n",
        "    if (Data.loc[x,'time_spend_company'] == 2 ):\n",
        "        if(Data.loc[x,'left'] == 1 ):\n",
        "            yes2 +=1\n",
        "\n",
        "    if (Data.loc[x,'time_spend_company'] == 2 ):\n",
        "        if(Data.loc[x,'left'] == 0 ):\n",
        "            no2 +=1\n",
        "\n",
        "    if (Data.loc[x,'time_spend_company'] == 3 ):\n",
        "        if(Data.loc[x,'left'] == 0 ):\n",
        "            no3 +=1\n",
        "\n",
        "    if (Data.loc[x,'time_spend_company'] == 3 ):\n",
        "        if(Data.loc[x,'left'] == 1 ):\n",
        "            yes3 +=1\n",
        "\n",
        "    if (Data.loc[x,'time_spend_company'] == 4 ):\n",
        "        if(Data.loc[x,'left'] == 0 ):\n",
        "            no4 +=1\n",
        "\n",
        "    if (Data.loc[x,'time_spend_company'] == 4 ):\n",
        "        if(Data.loc[x,'left'] == 1 ):\n",
        "            yes4 +=1\n",
        "\n",
        "    if (Data.loc[x,'time_spend_company'] == 5 ):\n",
        "        if(Data.loc[x,'left'] == 0 ):\n",
        "            no5 +=1\n",
        "\n",
        "    if (Data.loc[x,'time_spend_company'] == 5 ):\n",
        "        if(Data.loc[x,'left'] == 1 ):\n",
        "            yes5 +=1\n",
        "\n",
        "    if (Data.loc[x,'time_spend_company'] == 6 ):\n",
        "        if(Data.loc[x,'left'] == 1 ):\n",
        "            yes6 +=1\n",
        "\n",
        "    if (Data.loc[x,'time_spend_company'] == 6 ):\n",
        "        if(Data.loc[x,'left'] == 0 ):\n",
        "            no6 +=1\n",
        "\n",
        "    if (Data.loc[x,'time_spend_company'] == 7 ):\n",
        "        if(Data.loc[x,'left'] == 1 ):\n",
        "            yes7 +=1\n",
        "\n",
        "    if (Data.loc[x,'time_spend_company'] == 7 ):\n",
        "        if(Data.loc[x,'left'] == 0 ):\n",
        "            no7 +=1\n",
        "\n",
        "    if (Data.loc[x,'time_spend_company'] == 8 ):\n",
        "        if(Data.loc[x,'left'] == 1 ):\n",
        "            yes8 +=1\n",
        "\n",
        "    if (Data.loc[x,'time_spend_company'] == 8 ):\n",
        "        if(Data.loc[x,'left'] == 0 ):\n",
        "            no8 +=1\n",
        "\n",
        "    if (Data.loc[x,'time_spend_company'] == 9 ):\n",
        "        if(Data.loc[x,'left'] == 1 ):\n",
        "            yes9 +=1\n",
        "\n",
        "    if (Data.loc[x,'time_spend_company'] == 9 ):\n",
        "        if(Data.loc[x,'left'] == 0 ):\n",
        "            no9 +=1\n",
        "\n",
        "    if (Data.loc[x,'time_spend_company'] == 10 ):\n",
        "        if(Data.loc[x,'left'] == 1 ):\n",
        "            yes10 +=1\n",
        "\n",
        "    if (Data.loc[x,'time_spend_company'] == 10 ):\n",
        "        if(Data.loc[x,'left'] == 0 ):\n",
        "            no10 +=1\n",
        "\n",
        "t = [[2,yes2,no2],[3,yes3,no3],[4,yes4,no4],[5,yes5,no5],[6,yes6,no6],[7,yes7,no7],[8,yes8,no8],[9,yes10,no10]]\n",
        "t = np.asarray(t)\n",
        "table = pd.DataFrame(data=t,dtype=float, columns= ['years spent','left','stayed'] )\n",
        "print(table)\n",
        "chi2, p, dof, exp = chi2_contingency(table.iloc[:,1:])\n",
        "print(exp)\n",
        "print(p)\n",
        "if(p>0.05):\n",
        "  print('No of years spent in company doesnt affect the decision to leave the company')\n",
        "if(p<0.05):\n",
        "  print('No of years spent in company is associated with decision to leave the company')"
      ],
      "execution_count": null,
      "outputs": [
        {
          "output_type": "stream",
          "text": [
            "(14999, 10)\n",
            "   years spent    left  stayed\n",
            "0          2.0    53.0  3191.0\n",
            "1          3.0  1586.0  4857.0\n",
            "2          4.0   890.0  1667.0\n",
            "3          5.0   833.0   640.0\n",
            "4          6.0   209.0   509.0\n",
            "5          7.0     0.0   188.0\n",
            "6          8.0     0.0   162.0\n",
            "7          9.0     0.0   214.0\n",
            "[[ 772.33975598 2471.66024402]\n",
            " [1533.96579772 4909.03420228]\n",
            " [ 608.7770518  1948.2229482 ]\n",
            " [ 350.69557971 1122.30442029]\n",
            " [ 170.94326288  547.05673712]\n",
            " [  44.7595173   143.2404827 ]\n",
            " [  38.56937129  123.43062871]\n",
            " [  50.94966331  163.05033669]]\n",
            "0.0\n",
            "No of years spent in company is associated with decision to leave the company\n"
          ],
          "name": "stdout"
        }
      ]
    },
    {
      "cell_type": "code",
      "metadata": {
        "id": "celiJchc_rM3",
        "outputId": "3954877e-e908-41d9-e076-b5bd6fba6527",
        "colab": {
          "base_uri": "https://localhost:8080/",
          "height": 204
        }
      },
      "source": [
        "#getting stat of employee who left after the promotion\n",
        "Data = un_normalized_data\n",
        "temp=0\n",
        "\n",
        "for x in range(1,Data.shape[0]):\n",
        "\n",
        "    if (Data.loc[x,'promotion_last_5years'] == 1 ):\n",
        "        if(Data.loc[x,'left'] == 1 ):\n",
        "            temp = temp + Data.loc[x,:]\n",
        "  \n",
        "            \n",
        "print(temp/19)\n"
      ],
      "execution_count": null,
      "outputs": [
        {
          "output_type": "stream",
          "text": [
            "satisfaction_level         0.460000\n",
            "last_evaluation            0.588421\n",
            "number_project             3.052632\n",
            "average_montly_hours     177.736842\n",
            "time_spend_company         3.263158\n",
            "Work_accident              0.210526\n",
            "promotion_last_5years      1.000000\n",
            "department                 2.842105\n",
            "salary                     0.263158\n",
            "left                       1.000000\n",
            "dtype: float64\n"
          ],
          "name": "stdout"
        }
      ]
    }
  ]
}